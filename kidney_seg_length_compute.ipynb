{
 "cells": [
  {
   "cell_type": "code",
   "execution_count": 1,
   "id": "3c37bea7",
   "metadata": {},
   "outputs": [],
   "source": [
    "import os, glob, random\n",
    "import pandas as pd\n",
    "import SimpleITK as sitk\n",
    "import numpy as np\n",
    "from scripts_img_process.kidney_seg_to_length import get_lateral_length_from_mask, get_image_path_by_id\n"
   ]
  },
  {
   "cell_type": "code",
   "execution_count": 4,
   "id": "b1feb99a",
   "metadata": {
    "scrolled": true
   },
   "outputs": [
    {
     "name": "stdout",
     "output_type": "stream",
     "text": [
      "Colon_001_kidney_2class_label_seg_kito.nii.gz processing\n",
      "94.56214887575261\n",
      "94.7100839404126\n",
      "94.56214887575261\n",
      "94.7100839404126\n",
      "0 th Colon_001 \n",
      "\n",
      "\n"
     ]
    }
   ],
   "source": [
    "df_init = pd.DataFrame()\n",
    "\n",
    "manual_seg_dir =  'nnUNet_raw_data_base/nnUNet_raw_data/label_in_nii_train526_kito/'\n",
    "auto_seg_dir = 'nnUNet_raw_data_base/nnUNet_raw_data/label_in_nii_train526_kito/'\n",
    "csv_write_path= 'nnUNet_raw_data_base/nnUNet_raw_data/kidney_length.csv'\n",
    "\n",
    "\n",
    "for idx, d in sorted(enumerate(os.listdir(manual_seg_dir))):\n",
    "    if '.nii.gz' in d :\n",
    "        print(d,'processing')\n",
    "        indices = [i for i, c in enumerate(d) if c == '_']\n",
    "        pid = d[:indices[1]]\n",
    "\n",
    "        auto_seg_path = get_image_path_by_id(pid, auto_seg_dir)\n",
    "        manual_seg_path = get_image_path_by_id(pid, manual_seg_dir)\n",
    "\n",
    "        if os.path.exists(auto_seg_path) and os.path.exists(manual_seg_path)  :\n",
    "            manual_seg_sitk = sitk.ReadImage(manual_seg_path)\n",
    "            mskCube  = sitk.GetArrayFromImage(manual_seg_sitk)\n",
    "            auto_seg_sitk = sitk.ReadImage(auto_seg_path)\n",
    "            prdCube = sitk.GetArrayFromImage(auto_seg_sitk)\n",
    "            \n",
    "            mskCube_right = mskCube.copy()\n",
    "            mskCube_right[mskCube == 2] =0  # right kidney is left   \n",
    "            length_right_gd, len_rgd_cord0,len_rgd_cord1 = get_lateral_length_from_mask(mskCube_right)\n",
    "            \n",
    "            mskCube_left = mskCube.copy()\n",
    "            mskCube_left[mskCube == 1] =0  # left kidney is left  \n",
    "            length_left_gd, len_lgd_cord0,len_lgd_cord1 = get_lateral_length_from_mask(mskCube_left)\n",
    "\n",
    "            prdCube_right = prdCube.copy()\n",
    "            prdCube_right[prdCube==2] =0  # right kidney is left \n",
    "            length_right_ai, len_rai_cord0,len_rai_cord1 = get_lateral_length_from_mask(prdCube_right)\n",
    "\n",
    "            prdCube_left = prdCube.copy()\n",
    "            prdCube_left[prdCube==1] =0  # left kidney is left  \n",
    "            length_left_ai, len_lai_cord0,len_lai_cord1 = get_lateral_length_from_mask(prdCube_left)\n",
    "           \n",
    "\n",
    "            df = pd.DataFrame({'CT_id':  pid,\n",
    "\n",
    "                        'length_right_gd':round(length_left_gd,5), 'length_right_ai':round(length_left_ai,5),             \n",
    "                               \n",
    "                        'length_left_gd':round(length_right_gd,5),'length_left_ai':round(length_right_ai,5),\n",
    "\n",
    "                        'len_rgd_cord0': str(len_rgd_cord0),  'len_rai_cord0': str(len_rai_cord1),                               \n",
    "                        'len_rgd_cord1': str(len_rgd_cord1) ,  'len_rai_cord1': str(len_rai_cord1),                     \n",
    "                                                      \n",
    "                        'len_lgd_cord0': str(len_lgd_cord0),  'len_lai_cord0': str(len_lai_cord0),\n",
    "                        'len_lgd_cord1': str(len_lgd_cord1),  'len_lai_cord1': str(len_lai_cord1)\n",
    "                            },index=[0])\n",
    "            df_init = df_init.append(df)\n",
    "            df_init.to_csv(csv_write_path )\n",
    "            print(idx,'th',pid,'\\n\\n')\n"
   ]
  },
  {
   "cell_type": "code",
   "execution_count": 3,
   "id": "04e69f40",
   "metadata": {},
   "outputs": [
    {
     "name": "stdout",
     "output_type": "stream",
     "text": [
      "[249. 267.  79.]\n"
     ]
    }
   ],
   "source": [
    "print(str(len_lai_cord1))"
   ]
  },
  {
   "cell_type": "code",
   "execution_count": 5,
   "id": "848f0a2e",
   "metadata": {},
   "outputs": [
    {
     "name": "stdout",
     "output_type": "stream",
     "text": [
      "(1, 14)\n"
     ]
    },
    {
     "data": {
      "text/html": [
       "<div>\n",
       "<style scoped>\n",
       "    .dataframe tbody tr th:only-of-type {\n",
       "        vertical-align: middle;\n",
       "    }\n",
       "\n",
       "    .dataframe tbody tr th {\n",
       "        vertical-align: top;\n",
       "    }\n",
       "\n",
       "    .dataframe thead th {\n",
       "        text-align: right;\n",
       "    }\n",
       "</style>\n",
       "<table border=\"1\" class=\"dataframe\">\n",
       "  <thead>\n",
       "    <tr style=\"text-align: right;\">\n",
       "      <th></th>\n",
       "      <th>Unnamed: 0</th>\n",
       "      <th>CT_id</th>\n",
       "      <th>length_right_gd</th>\n",
       "      <th>length_right_ai</th>\n",
       "      <th>length_left_gd</th>\n",
       "      <th>length_left_ai</th>\n",
       "      <th>len_rgd_cord0</th>\n",
       "      <th>len_rai_cord0</th>\n",
       "      <th>len_rgd_cord1</th>\n",
       "      <th>len_rai_cord1</th>\n",
       "      <th>len_lgd_cord0</th>\n",
       "      <th>len_lai_cord0</th>\n",
       "      <th>len_lgd_cord1</th>\n",
       "      <th>len_lai_cord1</th>\n",
       "    </tr>\n",
       "  </thead>\n",
       "  <tbody>\n",
       "    <tr>\n",
       "      <th>0</th>\n",
       "      <td>0</td>\n",
       "      <td>Colon_001</td>\n",
       "      <td>94.71008</td>\n",
       "      <td>94.71008</td>\n",
       "      <td>94.56215</td>\n",
       "      <td>94.56215</td>\n",
       "      <td>[133. 238.  65.]</td>\n",
       "      <td>[172. 252.  82.]</td>\n",
       "      <td>[172. 252.  82.]</td>\n",
       "      <td>[172. 252.  82.]</td>\n",
       "      <td>[268. 220.  63.]</td>\n",
       "      <td>[268. 220.  63.]</td>\n",
       "      <td>[249. 267.  79.]</td>\n",
       "      <td>[249. 267.  79.]</td>\n",
       "    </tr>\n",
       "  </tbody>\n",
       "</table>\n",
       "</div>"
      ],
      "text/plain": [
       "   Unnamed: 0      CT_id  length_right_gd  length_right_ai  length_left_gd  \\\n",
       "0           0  Colon_001         94.71008         94.71008        94.56215   \n",
       "\n",
       "   length_left_ai     len_rgd_cord0     len_rai_cord0     len_rgd_cord1  \\\n",
       "0        94.56215  [133. 238.  65.]  [172. 252.  82.]  [172. 252.  82.]   \n",
       "\n",
       "      len_rai_cord1     len_lgd_cord0     len_lai_cord0     len_lgd_cord1  \\\n",
       "0  [172. 252.  82.]  [268. 220.  63.]  [268. 220.  63.]  [249. 267.  79.]   \n",
       "\n",
       "      len_lai_cord1  \n",
       "0  [249. 267.  79.]  "
      ]
     },
     "execution_count": 5,
     "metadata": {},
     "output_type": "execute_result"
    }
   ],
   "source": [
    "csv_write_path=csv_write_path\n",
    "# csv_write_path= 'csv/nnunet_length_colon_ts_78.csv'\n",
    "# csv_write_path= 'csv/nnunet_length_plain_CT_285.csv'\n",
    "df_init = pd.read_csv(csv_write_path, index_col = False)\n",
    "\n",
    "print(df_init.shape)\n",
    "\n",
    "df_init.head()"
   ]
  },
  {
   "cell_type": "code",
   "execution_count": 6,
   "id": "374fc107",
   "metadata": {},
   "outputs": [
    {
     "name": "stdout",
     "output_type": "stream",
     "text": [
      "col_show is length_right_ai\n",
      "col_show is length_right_ai\n",
      "col_show is length_right_ai\n",
      "length_right_ai shape: (1,) mean: 94.7101 std: 0.0\n"
     ]
    },
    {
     "data": {
      "text/plain": [
       "<function matplotlib.pyplot.imshow(X, cmap=None, norm=None, aspect=None, interpolation=None, alpha=None, vmin=None, vmax=None, origin=None, extent=None, *, filternorm=True, filterrad=4.0, resample=None, url=None, data=None, **kwargs)>"
      ]
     },
     "execution_count": 6,
     "metadata": {},
     "output_type": "execute_result"
    },
    {
     "data": {
      "image/png": "[encoded data removed]",
      "text/plain": [
       "<Figure size 640x480 with 1 Axes>"
      ]
     },
     "metadata": {},
     "output_type": "display_data"
    }
   ],
   "source": [
    "import matplotlib.pyplot as plt\n",
    "idx = 3\n",
    "col_show = list(df_init)[idx]\n",
    "# col_show = 'dice_score'\n",
    "print('col_show is', col_show )\n",
    "print('col_show is', col_show )\n",
    "print('col_show is', col_show )\n",
    "value_mean = round(np.mean(df_init[col_show]),4)\n",
    "value_std = round(np.std(df_init[col_show]),4)\n",
    "shape = df_init[col_show ].shape\n",
    "\n",
    "\n",
    "print(col_show, 'shape:',shape, 'mean:' ,value_mean,'std:', value_std)\n",
    "plt.hist( df_init[col_show],bins = 25)\n",
    "plt.imshow"
   ]
  },
  {
   "cell_type": "code",
   "execution_count": 19,
   "id": "c135f1b9",
   "metadata": {},
   "outputs": [
    {
     "name": "stdout",
     "output_type": "stream",
     "text": [
      "558 558\n",
      "length_right_gd length_right_ai \n",
      " ks_p_value 0.43858213461633094  NS NS NS \n",
      "\n"
     ]
    },
    {
     "data": {
      "image/png": "[encoded data removed]",
      "text/plain": [
       "<Figure size 640x480 with 1 Axes>"
      ]
     },
     "metadata": {},
     "output_type": "display_data"
    }
   ],
   "source": [
    "from scipy import stats\n",
    "import matplotlib.pyplot as plt\n",
    "                    \n",
    "col = ['length_right_gd','length_right_ai']\n",
    "# col = ['length_left_gd','length_left_ai']\n",
    "\n",
    "ai_vol = list(df_init[col[0]])\n",
    "gd_vol  = list(df_init[col[1]])\n",
    "\n",
    "ai_vol = list(df_init['length_right_ai']) + list(df_init['length_left_ai'])\n",
    "gd_vol  = list(df_init['length_right_gd']) + list(df_init['length_left_gd'])\n",
    "\n",
    "print(len(ai_vol), len(gd_vol))\n",
    "cor = stats.spearmanr(ai_vol , gd_vol)[0]\n",
    "#             print(col_x, col_y, 'cor',cor)\n",
    "ks_s, ks_p = stats.ks_2samp(ai_vol,gd_vol)\n",
    "if ks_p >0.05:\n",
    "    print(col[0], col[1], '\\n', 'ks_p_value',ks_p,' NS NS NS \\n')\n",
    "if ks_p <=0.05:\n",
    "    print(col[0], col[1], '\\n', 'ks_p_value',ks_p,' Significant \\n')\n",
    "\n",
    "plt.boxplot((ai_vol,gd_vol,),labels=(col))\n",
    "# plt.ylim(100,800)\n",
    "plt.show()\n"
   ]
  },
  {
   "cell_type": "code",
   "execution_count": null,
   "id": "b1ec3cc3",
   "metadata": {},
   "outputs": [],
   "source": []
  },
  {
   "cell_type": "code",
   "execution_count": null,
   "id": "90ae71cb",
   "metadata": {},
   "outputs": [],
   "source": []
  }
 ],
 "metadata": {
  "kernelspec": {
   "display_name": "Python [conda env:lipa] *",
   "language": "python",
   "name": "conda-env-lipa-py"
  },
  "language_info": {
   "codemirror_mode": {
    "name": "ipython",
    "version": 3
   },
   "file_extension": ".py",
   "mimetype": "text/x-python",
   "name": "python",
   "nbconvert_exporter": "python",
   "pygments_lexer": "ipython3",
   "version": "3.8.5"
  }
 },
 "nbformat": 4,
 "nbformat_minor": 5
}
