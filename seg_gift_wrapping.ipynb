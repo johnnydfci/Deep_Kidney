{
 "cells": [
  {
   "cell_type": "code",
   "execution_count": 4,
   "metadata": {},
   "outputs": [
    {
     "name": "stdout",
     "output_type": "stream",
     "text": [
      "nnUNet_raw_data_base/nnUNet_raw_data/label_in_nii_train526_kipa/Colon_001_kidney_2class_label_seg.nii.gz processing\n",
      "nnUNet_raw_data_base/nnUNet_raw_data/label_in_nii_train526_kito/Colon_001_kidney_2class_label_seg_kito.nii.gz saved\n",
      "nnUNet_raw_data_base/nnUNet_raw_data/label_in_nii_train526_kipa/Colon_001_kidney_2class_label_seg.nii.gz nnUNet_raw_data_base/nnUNet_raw_data/label_in_nii_train526_kito/Colon_001_kidney_2class_label_seg_kito.nii.gz \n",
      "\n"
     ]
    }
   ],
   "source": [
    "import os\n",
    "from scripts_img_process.renal_hull import save_hull_of_parenchyma_into_nii\n",
    "\n",
    "seg_dir = 'nnUNet_raw_data_base/nnUNet_test_data/test_seg_in_nii_curated/'\n",
    "targ_dir = 'nnUNet_raw_data_base/nnUNet_test_data/test_seg_in_kito_nii/'\n",
    "\n",
    "seg_dir = 'nnUNet_raw_data_base/nnUNet_raw_data/label_in_nii_train526_kipa/'\n",
    "targ_dir = 'nnUNet_raw_data_base/nnUNet_raw_data/label_in_nii_train526_kito/'\n",
    "\n",
    "for d in os.listdir(seg_dir):\n",
    "    if '.nii.gz' in d :\n",
    "        seg_path = seg_dir + d \n",
    "        print(     seg_path, 'processing')\n",
    "        hull_path = targ_dir + d.replace('.nii.gz', '_kito.nii.gz')\n",
    "        save_hull_of_parenchyma_into_nii(seg_path, hull_path)\n",
    "        print(seg_path,hull_path, '\\n')"
   ]
  },
  {
   "cell_type": "code",
   "execution_count": 4,
   "metadata": {},
   "outputs": [
    {
     "data": {
      "text/plain": [
       "3"
      ]
     },
     "execution_count": 4,
     "metadata": {},
     "output_type": "execute_result"
    }
   ],
   "source": [
    "len(contours)"
   ]
  },
  {
   "cell_type": "code",
   "execution_count": null,
   "metadata": {},
   "outputs": [],
   "source": []
  }
 ],
 "metadata": {
  "kernelspec": {
   "display_name": "Python [conda env:lipa] *",
   "language": "python",
   "name": "conda-env-lipa-py"
  },
  "language_info": {
   "codemirror_mode": {
    "name": "ipython",
    "version": 3
   },
   "file_extension": ".py",
   "mimetype": "text/x-python",
   "name": "python",
   "nbconvert_exporter": "python",
   "pygments_lexer": "ipython3",
   "version": "3.8.5"
  }
 },
 "nbformat": 4,
 "nbformat_minor": 4
}
