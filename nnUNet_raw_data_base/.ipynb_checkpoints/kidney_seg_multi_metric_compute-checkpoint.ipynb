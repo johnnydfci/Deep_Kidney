{
 "cells": [
  {
   "cell_type": "code",
   "execution_count": 1,
   "id": "7f10912a",
   "metadata": {},
   "outputs": [],
   "source": [
    "import os, glob, random\n",
    "from medpy.metric import binary\n",
    "import pandas as pd\n",
    "import SimpleITK as sitk\n",
    "import numpy as np\n",
    "\n",
    "def get_image_path_by_id(patient_id, image_dir):\n",
    "    \n",
    "    file_name = [os.path.relpath(os.path.join(image_dir, x)) \\\n",
    "                    for x in os.listdir(image_dir) \\\n",
    "                    if os.path.isfile(os.path.join(image_dir, x)) and patient_id in x]\n",
    "    if len(file_name)>0:\n",
    "        return file_name[0]\n",
    "    else:\n",
    "        return ''"
   ]
  },
  {
   "cell_type": "code",
   "execution_count": 7,
   "id": "b1feb99a",
   "metadata": {
    "scrolled": true
   },
   "outputs": [
    {
     "name": "stdout",
     "output_type": "stream",
     "text": [
      "0 Colon_001_kidney_2class_label_seg_kito.nii.gz processing\n",
      "0 th pid: Colon_001 dsc_global 1.0 done \n",
      "\n",
      "\n",
      "\n"
     ]
    }
   ],
   "source": [
    "\n",
    "df_init = pd.DataFrame()\n",
    "\n",
    "manual_seg_dir =  'nnUNet_raw_data/label_in_nii_train526_kito/'\n",
    "auto_seg_dir = 'nnUNet_raw_data/label_in_nii_train526_kito/'\n",
    "csv_write_path= '../csv_results/nnunet_dsc.csv'\n",
    "\n",
    "vox_spacing = [5.0,1.0,1.0]     \n",
    "\n",
    "for idx, d in sorted(enumerate(os.listdir(manual_seg_dir))):\n",
    "    if '.nii.gz' in d :\n",
    "        print(idx, d,'processing')\n",
    "        indices = [i for i, c in enumerate(d) if c == '_']\n",
    "        pid = d[:indices[1]]\n",
    "        auto_seg_path = get_image_path_by_id(pid, auto_seg_dir)\n",
    "        manual_seg_path = get_image_path_by_id(pid, manual_seg_dir)\n",
    "\n",
    "        if os.path.exists(auto_seg_path) and os.path.exists(manual_seg_path) :\n",
    "            manual_seg_sitk = sitk.ReadImage(manual_seg_path)\n",
    "            mskCube  = sitk.GetArrayFromImage(manual_seg_sitk)\n",
    "            auto_seg_sitk = sitk.ReadImage(auto_seg_path)\n",
    "            prdCube = sitk.GetArrayFromImage(auto_seg_sitk)\n",
    "\n",
    "            mskCube_right, mskCube_left = mskCube.copy(), mskCube.copy()\n",
    "            prdCube_right, prdCube_left = prdCube.copy(), prdCube.copy()\n",
    "            \n",
    "            mskCube_right[mskCube == 2] = 0  # get right kidney  (class 1) \n",
    "            prdCube_right[prdCube == 2] = 0  # get right kidney  (class 1) \n",
    "            mskCube_left[mskCube == 1] = 0  #  get left kidney (class 2)\n",
    "            prdCube_left[prdCube == 1] = 0  # get left kidney  (class 1)  \n",
    "\n",
    "            dsc_global = binary.dc(prdCube,mskCube)\n",
    "            dsc_right = binary.dc(prdCube_right ,mskCube_right )\n",
    "            dsc_left = binary.dc(prdCube_left,mskCube_left)\n",
    "            \n",
    "            jc_global = binary.jc(prdCube,mskCube)\n",
    "            jc_right = binary.jc(prdCube_right ,mskCube_right )\n",
    "            jc_left = binary.jc(prdCube_left,mskCube_left)            \n",
    "            \n",
    "            \n",
    "            \n",
    "            assd_global = binary.assd(prdCube,mskCube,vox_spacing, 1)\n",
    "            assd_right = binary.assd(prdCube_right,mskCube_right,vox_spacing, 1)\n",
    "            assd_left = binary.assd(prdCube_left,mskCube_left,vox_spacing, 1)\n",
    "\n",
    "            df = pd.DataFrame({'CT_id': pid,  \n",
    "                               'dsc_global':round(dsc_global,5),\n",
    "                               'dsc_right':round(dsc_right,5),    'dsc_left':round(dsc_left,5),\n",
    "                               'jc_global':round(jc_global,5),                               \n",
    "                               'jc_right':round(jc_right,5),    'jc_left':round(jc_left,5),\n",
    "                               'assd_global':round(assd_global,5),                               \n",
    "                               'assd_right':round(assd_right,5),    'assd_left':round(assd_left,5),      \n",
    "                              },index=[0])\n",
    "            df_init = df_init.append(df)\n",
    "            df_init.to_csv(csv_write_path )\n",
    "            print(idx,'th pid:',pid,'dsc_global',round(dsc_global,5),'done \\n\\n\\n')\n"
   ]
  },
  {
   "cell_type": "code",
   "execution_count": 8,
   "id": "848f0a2e",
   "metadata": {},
   "outputs": [
    {
     "name": "stdout",
     "output_type": "stream",
     "text": [
      "(1, 10)\n"
     ]
    },
    {
     "data": {
      "text/html": [
       "<div>\n",
       "<style scoped>\n",
       "    .dataframe tbody tr th:only-of-type {\n",
       "        vertical-align: middle;\n",
       "    }\n",
       "\n",
       "    .dataframe tbody tr th {\n",
       "        vertical-align: top;\n",
       "    }\n",
       "\n",
       "    .dataframe thead th {\n",
       "        text-align: right;\n",
       "    }\n",
       "</style>\n",
       "<table border=\"1\" class=\"dataframe\">\n",
       "  <thead>\n",
       "    <tr style=\"text-align: right;\">\n",
       "      <th></th>\n",
       "      <th>CT_id</th>\n",
       "      <th>dsc_global</th>\n",
       "      <th>dsc_right</th>\n",
       "      <th>dsc_left</th>\n",
       "      <th>jc_global</th>\n",
       "      <th>jc_right</th>\n",
       "      <th>jc_left</th>\n",
       "      <th>assd_global</th>\n",
       "      <th>assd_right</th>\n",
       "      <th>assd_left</th>\n",
       "    </tr>\n",
       "  </thead>\n",
       "  <tbody>\n",
       "    <tr>\n",
       "      <th>0</th>\n",
       "      <td>Colon_001</td>\n",
       "      <td>1.0</td>\n",
       "      <td>1.0</td>\n",
       "      <td>1.0</td>\n",
       "      <td>1.0</td>\n",
       "      <td>1.0</td>\n",
       "      <td>1.0</td>\n",
       "      <td>0.0</td>\n",
       "      <td>0.0</td>\n",
       "      <td>0.0</td>\n",
       "    </tr>\n",
       "  </tbody>\n",
       "</table>\n",
       "</div>"
      ],
      "text/plain": [
       "       CT_id  dsc_global  dsc_right  dsc_left  jc_global  jc_right  jc_left  \\\n",
       "0  Colon_001         1.0        1.0       1.0        1.0       1.0      1.0   \n",
       "\n",
       "   assd_global  assd_right  assd_left  \n",
       "0          0.0         0.0        0.0  "
      ]
     },
     "execution_count": 8,
     "metadata": {},
     "output_type": "execute_result"
    }
   ],
   "source": [
    "print(df_init.shape)\n",
    "df_init.head()"
   ]
  },
  {
   "cell_type": "code",
   "execution_count": 20,
   "id": "374fc107",
   "metadata": {},
   "outputs": [
    {
     "name": "stdout",
     "output_type": "stream",
     "text": [
      "CSV shape (1,)\n",
      "dsc_global mean value:  1.0\n",
      "dsc_global std:  0.0\n"
     ]
    },
    {
     "data": {
      "text/plain": [
       "(array([0., 0., 0., 0., 0., 0., 0., 0., 0., 0., 0., 0., 1., 0., 0., 0., 0.,\n",
       "        0., 0., 0., 0., 0., 0., 0., 0.]),\n",
       " array([0.5 , 0.54, 0.58, 0.62, 0.66, 0.7 , 0.74, 0.78, 0.82, 0.86, 0.9 ,\n",
       "        0.94, 0.98, 1.02, 1.06, 1.1 , 1.14, 1.18, 1.22, 1.26, 1.3 , 1.34,\n",
       "        1.38, 1.42, 1.46, 1.5 ]),\n",
       " <BarContainer object of 25 artists>)"
      ]
     },
     "execution_count": 20,
     "metadata": {},
     "output_type": "execute_result"
    },
    {
     "data": {
      "image/png": "[encoded data removed]",
      "text/plain": [
       "<Figure size 640x480 with 1 Axes>"
      ]
     },
     "metadata": {},
     "output_type": "display_data"
    }
   ],
   "source": [
    "import matplotlib.pyplot as plt\n",
    "\n",
    "col_str = 'dsc_global'\n",
    "print('CSV shape',df_init[col_str].shape)\n",
    "print(col_str, 'mean value: ',  np.mean(df_init[col_str]))\n",
    "print(col_str,  'std: ',  np.std(df_init[col_str]))\n",
    "\n",
    "\n",
    "plt.hist( df_init[col_str],bins = 25)\n",
    "\n",
    "# plt.imshow"
   ]
  }
 ],
 "metadata": {
  "kernelspec": {
   "display_name": "Python [conda env:lipa] *",
   "language": "python",
   "name": "conda-env-lipa-py"
  },
  "language_info": {
   "codemirror_mode": {
    "name": "ipython",
    "version": 3
   },
   "file_extension": ".py",
   "mimetype": "text/x-python",
   "name": "python",
   "nbconvert_exporter": "python",
   "pygments_lexer": "ipython3",
   "version": "3.8.5"
  }
 },
 "nbformat": 4,
 "nbformat_minor": 5
}
