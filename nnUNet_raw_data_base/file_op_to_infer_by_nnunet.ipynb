{
 "cells": [
  {
   "cell_type": "code",
   "execution_count": 4,
   "id": "341f10d7",
   "metadata": {},
   "outputs": [
    {
     "name": "stdout",
     "output_type": "stream",
     "text": [
      "0 nnUNet_raw_data_base/nnUNet_test_data/test_img_in_nii_raw/0542_T2_TSE_TRA_img.nii.gz\n",
      "0 nnUNet_raw_data_base/nnUNet_test_data/test_img_in_nii/0542_T2_TSE_TRA_img_nnunet_to_seg_0000.nii.gz\n",
      "\n",
      "\n",
      "\n",
      "\n",
      "1 nnUNet_raw_data_base/nnUNet_test_data/test_img_in_nii_raw/0543_T2_TSE_TRA_img.nii.gz\n",
      "1 nnUNet_raw_data_base/nnUNet_test_data/test_img_in_nii/0543_T2_TSE_TRA_img_nnunet_to_seg_0000.nii.gz\n",
      "\n",
      "\n",
      "\n",
      "\n",
      "2 nnUNet_raw_data_base/nnUNet_test_data/test_img_in_nii_raw/0545_T2_TSE_TRA_img.nii.gz\n",
      "2 nnUNet_raw_data_base/nnUNet_test_data/test_img_in_nii/0545_T2_TSE_TRA_img_nnunet_to_seg_0000.nii.gz\n",
      "\n",
      "\n",
      "\n",
      "\n",
      "3 nnUNet_raw_data_base/nnUNet_test_data/test_img_in_nii_raw/GL_133_T12-S2_time1.nii.gz\n",
      "3 nnUNet_raw_data_base/nnUNet_test_data/test_img_in_nii/GL_133_T12-S2_time1_nnunet_to_seg_0000.nii.gz\n",
      "\n",
      "\n",
      "\n",
      "\n",
      "4 nnUNet_raw_data_base/nnUNet_test_data/test_img_in_nii_raw/GL_134_T12-S2_time1.nii.gz\n",
      "4 nnUNet_raw_data_base/nnUNet_test_data/test_img_in_nii/GL_134_T12-S2_time1_nnunet_to_seg_0000.nii.gz\n",
      "\n",
      "\n",
      "\n",
      "\n",
      "5 nnUNet_raw_data_base/nnUNet_test_data/test_img_in_nii_raw/GL_135_T12-S2_time1.nii.gz\n",
      "5 nnUNet_raw_data_base/nnUNet_test_data/test_img_in_nii/GL_135_T12-S2_time1_nnunet_to_seg_0000.nii.gz\n",
      "\n",
      "\n",
      "\n",
      "\n"
     ]
    }
   ],
   "source": [
    "import shutil, os, glob\n",
    "\n",
    "img_dir = 'nnUNet_raw_data_base/nnUNet_test_data/test_img_in_nii_raw/'\n",
    "targ_dir = 'nnUNet_raw_data_base/nnUNet_test_data/test_img_in_nii/'\n",
    "test_images = sorted(glob.glob(os.path.join(img_dir, '*.nii.gz*'))) \n",
    "\n",
    "for idx, img_path in enumerate(test_images):\n",
    "#     if 'TSE_TRA_img.nii.gz' in img_path:\n",
    "    if True:\n",
    "        print(idx, img_path)\n",
    "        targ_path =  targ_dir + img_path.split('/')[-1].replace( '.nii.gz','_nnunet_to_seg_0000.nii.gz')\n",
    "        print(idx,targ_path)\n",
    "        print('\\n\\n\\n')\n",
    "        shutil.copy(img_path, targ_path)"
   ]
  },
  {
   "cell_type": "code",
   "execution_count": null,
   "id": "1114be44",
   "metadata": {},
   "outputs": [],
   "source": []
  },
  {
   "cell_type": "code",
   "execution_count": null,
   "id": "5507db98",
   "metadata": {},
   "outputs": [],
   "source": []
  }
 ],
 "metadata": {
  "kernelspec": {
   "display_name": "Python [conda env:lipa] *",
   "language": "python",
   "name": "conda-env-lipa-py"
  },
  "language_info": {
   "codemirror_mode": {
    "name": "ipython",
    "version": 3
   },
   "file_extension": ".py",
   "mimetype": "text/x-python",
   "name": "python",
   "nbconvert_exporter": "python",
   "pygments_lexer": "ipython3",
   "version": "3.8.5"
  }
 },
 "nbformat": 4,
 "nbformat_minor": 5
}
