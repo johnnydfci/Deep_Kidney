{
 "cells": [
  {
   "cell_type": "code",
   "execution_count": 1,
   "id": "341f10d7",
   "metadata": {},
   "outputs": [
    {
     "name": "stdout",
     "output_type": "stream",
     "text": [
      "1 nnUNet_raw_data_base/nnUNet_test_data/test_seg_in_nii_raw/Pancreas_0001_nnunet_seg.nii.gz\n"
     ]
    }
   ],
   "source": [
    "import os, glob, random\n",
    "\n",
    "seg_dir = 'nnUNet_raw_data_base/nnUNet_test_data/test_seg_in_nii_raw/'\n",
    "cur_dir = 'nnUNet_raw_data_base/nnUNet_test_data/test_seg_in_nii_curated/'\n",
    "\n",
    "seg_paths = sorted(glob.glob(os.path.join(seg_dir, '*.nii.gz*')),reverse = True)\n",
    "# seg_paths = sorted(glob.glob(os.path.join(seg_dir, '*LUNG3_47*')),reverse = True)\n",
    "\n",
    "print(len(seg_paths), seg_paths[0])\n",
    "# for d in os.listdir(seg_dir):\n",
    "#     print(d)"
   ]
  },
  {
   "cell_type": "code",
   "execution_count": 2,
   "id": "4d382cd2",
   "metadata": {
    "scrolled": true
   },
   "outputs": [
    {
     "name": "stdout",
     "output_type": "stream",
     "text": [
      "0 (48, 440, 440) nnUNet_raw_data_base/nnUNet_test_data/test_seg_in_nii_raw/Pancreas_0001_nnunet_seg.nii.gz \n",
      "\n",
      "np.sum(mask_array_1) 29896\n",
      "np.sum(mask_array_2) 26922\n",
      "nnUNet_raw_data_base/nnUNet_test_data/test_seg_in_nii_curated/Pancreas_0001_nnunet_seg_curated.nii.gz saved\n",
      "nnUNet_raw_data_base/nnUNet_test_data/test_seg_in_nii_curated/Pancreas_0001_nnunet_seg_curated.nii.gz \n",
      "\n",
      "\n"
     ]
    }
   ],
   "source": [
    "from scripts_img_process.kidney_seg_curate_top2_mask import curate_2_class_array\n",
    "from scripts_img_process.sitk_nifti_tools import get_nifti_from_array_via_interspacing, \\\n",
    "                array_save_into_path_via_sample_sitk\n",
    "import SimpleITK as sitk\n",
    "import numpy as np\n",
    "\n",
    "for idx, seg_path in enumerate(seg_paths):\n",
    "    seg_sitk = sitk.ReadImage(seg_path)\n",
    "    seg_array =  sitk.GetArrayFromImage(seg_sitk)\n",
    "    print(idx, seg_array.shape, seg_path, '\\n')\n",
    "    seg_array = curate_2_class_array(seg_array)       \n",
    "    \n",
    "    targ_path = cur_dir + seg_path.split('/')[-1].replace('.nii.gz', '_curated.nii.gz')\n",
    "    \n",
    "    array_save_into_path_via_sample_sitk(seg_array, targ_path,seg_sitk)\n",
    "    \n",
    "    print(targ_path, '\\n\\n')"
   ]
  },
  {
   "cell_type": "code",
   "execution_count": null,
   "id": "c0845762",
   "metadata": {},
   "outputs": [],
   "source": []
  }
 ],
 "metadata": {
  "kernelspec": {
   "display_name": "Python [conda env:lipa] *",
   "language": "python",
   "name": "conda-env-lipa-py"
  },
  "language_info": {
   "codemirror_mode": {
    "name": "ipython",
    "version": 3
   },
   "file_extension": ".py",
   "mimetype": "text/x-python",
   "name": "python",
   "nbconvert_exporter": "python",
   "pygments_lexer": "ipython3",
   "version": "3.8.5"
  }
 },
 "nbformat": 4,
 "nbformat_minor": 5
}
