{
 "cells": [
  {
   "cell_type": "code",
   "execution_count": 2,
   "id": "3c37bea7",
   "metadata": {},
   "outputs": [],
   "source": [
    "import os, glob, random\n",
    "import pandas as pd\n",
    "import SimpleITK as sitk\n",
    "import numpy as np\n",
    "from scripts_img_process.kidney_seg_to_length import get_image_path_by_id\n"
   ]
  },
  {
   "cell_type": "code",
   "execution_count": 4,
   "id": "b1feb99a",
   "metadata": {
    "scrolled": true
   },
   "outputs": [
    {
     "name": "stdout",
     "output_type": "stream",
     "text": [
      "Colon_001_kidney_2class_label_seg_kito.nii.gz processing\n",
      "0 th Colon_001 \n",
      "\n",
      "\n"
     ]
    }
   ],
   "source": [
    "df_init = pd.DataFrame()\n",
    "\n",
    "manual_seg_dir =  'nnUNet_raw_data_base/nnUNet_raw_data/label_in_nii_train526_kito/'\n",
    "auto_seg_dir = 'nnUNet_raw_data_base/nnUNet_raw_data/label_in_nii_train526_kito/'\n",
    "csv_write_path= 'nnUNet_raw_data_base/nnUNet_raw_data/kidney_parenchymal_volume.csv'\n",
    "\n",
    "\n",
    "for idx, d in sorted(enumerate(os.listdir(manual_seg_dir))):\n",
    "    if '.nii.gz' in d :\n",
    "        print(d,'processing')\n",
    "        indices = [i for i, c in enumerate(d) if c == '_']\n",
    "        pid = d[:indices[1]]\n",
    "\n",
    "        auto_seg_path = get_image_path_by_id(pid, auto_seg_dir)\n",
    "        manual_seg_path = get_image_path_by_id(pid, manual_seg_dir)\n",
    "\n",
    "        if os.path.exists(auto_seg_path) and os.path.exists(manual_seg_path)  :\n",
    "            manual_seg_sitk = sitk.ReadImage(manual_seg_path)\n",
    "            mskCube  = sitk.GetArrayFromImage(manual_seg_sitk)\n",
    "            auto_seg_sitk = sitk.ReadImage(auto_seg_path)\n",
    "            prdCube = sitk.GetArrayFromImage(auto_seg_sitk)\n",
    "            \n",
    "            mskCube_right, mskCube_left = mskCube.copy(), mskCube.copy()\n",
    "            prdCube_right, prdCube_left = prdCube.copy(), prdCube.copy()\n",
    "            \n",
    "            mskCube_right[mskCube == 2] = 0  # get right kidney  (class 1) \n",
    "            prdCube_right[prdCube == 2] = 0  # get right kidney  (class 1) \n",
    "            mskCube_left[mskCube == 1] = 0  #  get left kidney (class 2)\n",
    "            prdCube_left[prdCube == 1] = 0  # get left kidney  (class 1)  \n",
    "            \n",
    "            volume_right_gd = np.sum(mskCube_right) *1.0 *1.0 *5.0 /1000\n",
    "            volume_right_ai = np.sum(prdCube_right)   *1.0 *1.0 *5.0 /1000         \n",
    "            volume_left_gd = np.sum(mskCube_left)*1.0 *1.0 *5.0 /1000 / 2\n",
    "            volume_left_ai = np.sum(prdCube_left)*1.0 *1.0 *5.0 /1000  / 2\n",
    "            \n",
    "          \n",
    "           \n",
    "\n",
    "            df = pd.DataFrame({'CT_id':  pid,\n",
    "                               \n",
    "                        'volume_right_gd':round(volume_right_gd,5), 'volume_right_ai':round(volume_right_ai,5),\n",
    "                        'volume_left_gd':round(volume_left_gd,5),'volume_left_ai':round(volume_left_ai,5)  \n",
    "                                                 \n",
    "                            },index=[0])\n",
    "            df_init = df_init.append(df)\n",
    "            df_init.to_csv(csv_write_path )\n",
    "            print(idx,'th',pid,'\\n\\n')\n"
   ]
  },
  {
   "cell_type": "code",
   "execution_count": null,
   "id": "b1ec3cc3",
   "metadata": {},
   "outputs": [],
   "source": []
  },
  {
   "cell_type": "code",
   "execution_count": null,
   "id": "90ae71cb",
   "metadata": {},
   "outputs": [],
   "source": []
  }
 ],
 "metadata": {
  "kernelspec": {
   "display_name": "Python [conda env:lipa] *",
   "language": "python",
   "name": "conda-env-lipa-py"
  },
  "language_info": {
   "codemirror_mode": {
    "name": "ipython",
    "version": 3
   },
   "file_extension": ".py",
   "mimetype": "text/x-python",
   "name": "python",
   "nbconvert_exporter": "python",
   "pygments_lexer": "ipython3",
   "version": "3.8.5"
  }
 },
 "nbformat": 4,
 "nbformat_minor": 5
}
